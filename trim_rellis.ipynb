{
 "cells": [
  {
   "cell_type": "code",
   "execution_count": 1,
   "metadata": {},
   "outputs": [],
   "source": [
    "import os\n",
    "import pandas as pd\n",
    "import shutil"
   ]
  },
  {
   "cell_type": "code",
   "execution_count": 4,
   "metadata": {},
   "outputs": [],
   "source": [
    "df = pd.read_csv('data/RELLIS/04/poses.txt', sep=' ', header=None)"
   ]
  },
  {
   "cell_type": "code",
   "execution_count": 5,
   "metadata": {},
   "outputs": [],
   "source": [
    "trim_every = 10\n",
    "sequence = 'lab'\n",
    "\n",
    "# Define source and destination directories\n",
    "src_dir_images = f'data/RELLIS/{sequence}/images'\n",
    "src_dir_depths = f'data/RELLIS/{sequence}/depth'\n",
    "dst_dir_images = f'data/RELLIS/{sequence}_trimmed_{trim_every:02}/images'\n",
    "dst_dir_depths = f'data/RELLIS/{sequence}_trimmed_{trim_every:02}/depth'\n",
    "\n",
    "# Create destination directories if they don't exist\n",
    "os.makedirs(dst_dir_images, exist_ok=True)\n",
    "os.makedirs(dst_dir_depths, exist_ok=True)\n",
    "\n",
    "# Get list of files in source directories\n",
    "files_images = sorted(os.listdir(src_dir_images))\n",
    "files_depths = sorted(os.listdir(src_dir_depths))\n",
    "\n",
    "# Copy every 5th file from source to destination directories\n",
    "for i in range(0, len(files_images), trim_every):\n",
    "    shutil.copy(os.path.join(src_dir_images, files_images[i]), dst_dir_images)\n",
    "    shutil.copy(os.path.join(src_dir_depths, files_depths[i]), dst_dir_depths)\n",
    "\n",
    "# Remove corresponding indices from dataframe\n",
    "df_trimmed = df.iloc[::trim_every, :].reset_index(drop=True)\n",
    "\n",
    "# Save the trimmed dataframe\n",
    "df_trimmed.to_csv(f'data/RELLIS/{sequence}_trimmed_{trim_every:02}/poses.txt', sep=' ', header=None, index=False)"
   ]
  },
  {
   "cell_type": "code",
   "execution_count": 5,
   "metadata": {},
   "outputs": [
    {
     "data": {
      "text/plain": [
       "(50, 50)"
      ]
     },
     "execution_count": 5,
     "metadata": {},
     "output_type": "execute_result"
    }
   ],
   "source": [
    "len(os.listdir('data/RELLIS/lab_short/images')), len(os.listdir('data/RELLIS/lab_short/depth'))"
   ]
  }
 ],
 "metadata": {
  "kernelspec": {
   "display_name": "Python 3",
   "language": "python",
   "name": "python3"
  },
  "language_info": {
   "codemirror_mode": {
    "name": "ipython",
    "version": 3
   },
   "file_extension": ".py",
   "mimetype": "text/x-python",
   "name": "python",
   "nbconvert_exporter": "python",
   "pygments_lexer": "ipython3",
   "version": "3.9.18"
  }
 },
 "nbformat": 4,
 "nbformat_minor": 2
}
