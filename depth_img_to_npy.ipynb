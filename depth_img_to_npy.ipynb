{
 "cells": [
  {
   "cell_type": "code",
   "execution_count": 1,
   "metadata": {},
   "outputs": [],
   "source": [
    "import os\n",
    "import numpy as np\n",
    "from PIL import Image\n",
    "from tqdm.auto import tqdm"
   ]
  },
  {
   "cell_type": "code",
   "execution_count": 7,
   "metadata": {},
   "outputs": [],
   "source": [
    "depth_images_path = 'data/RELLIS/lab/depth_images/'\n",
    "output_path = 'data/TUM_RGBD/lab/depth/'"
   ]
  },
  {
   "cell_type": "code",
   "execution_count": 11,
   "metadata": {},
   "outputs": [
    {
     "data": {
      "application/vnd.jupyter.widget-view+json": {
       "model_id": "e61113af6e984ede853345955758c88b",
       "version_major": 2,
       "version_minor": 0
      },
      "text/plain": [
       "  0%|          | 0/856 [00:00<?, ?it/s]"
      ]
     },
     "metadata": {},
     "output_type": "display_data"
    }
   ],
   "source": [
    "os.makedirs(output_path, exist_ok=True)\n",
    "\n",
    "for f in tqdm(os.listdir(depth_images_path)):\n",
    "    if f.endswith('.png'):\n",
    "        img = Image.open(depth_images_path + f)\n",
    "        img = img.convert('L')\n",
    "        img = np.array(img)\n",
    "        img = img.astype(np.float32) / 255.0 * -1 + 1\n",
    "        np.save(os.path.join(output_path + f[:-4]), img)"
   ]
  },
  {
   "cell_type": "code",
   "execution_count": 13,
   "metadata": {},
   "outputs": [
    {
     "data": {
      "text/plain": [
       "(1920, 1080)"
      ]
     },
     "execution_count": 13,
     "metadata": {},
     "output_type": "execute_result"
    }
   ],
   "source": [
    "np.load(output_path+'0001_depth.npy').shape"
   ]
  },
  {
   "cell_type": "code",
   "execution_count": 8,
   "metadata": {},
   "outputs": [
    {
     "data": {
      "application/vnd.jupyter.widget-view+json": {
       "model_id": "370891f42e9c4f308d2fb0f50238cc28",
       "version_major": 2,
       "version_minor": 0
      },
      "text/plain": [
       "  0%|          | 0/86 [00:00<?, ?it/s]"
      ]
     },
     "metadata": {},
     "output_type": "display_data"
    }
   ],
   "source": [
    "os.makedirs(output_path, exist_ok=True)\n",
    "\n",
    "for f in tqdm(sorted(os.listdir(depth_images_path))[::10]):\n",
    "    if f.endswith('.png'):\n",
    "        img = Image.open(depth_images_path + f)\n",
    "        img = np.array(img)\n",
    "        img = ((img.astype(np.float32) / 255.0 * -1 + 1) * 255).astype(np.uint8)\n",
    "        img = Image.fromarray(img)\n",
    "        img.save(os.path.join(output_path + f))"
   ]
  },
  {
   "cell_type": "code",
   "execution_count": null,
   "metadata": {},
   "outputs": [],
   "source": []
  }
 ],
 "metadata": {
  "kernelspec": {
   "display_name": "Python 3",
   "language": "python",
   "name": "python3"
  },
  "language_info": {
   "codemirror_mode": {
    "name": "ipython",
    "version": 3
   },
   "file_extension": ".py",
   "mimetype": "text/x-python",
   "name": "python",
   "nbconvert_exporter": "python",
   "pygments_lexer": "ipython3",
   "version": "3.9.18"
  }
 },
 "nbformat": 4,
 "nbformat_minor": 2
}
